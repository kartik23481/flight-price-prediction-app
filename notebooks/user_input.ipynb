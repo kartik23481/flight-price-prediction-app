{
 "cells": [
  {
   "cell_type": "code",
   "execution_count": 1,
   "id": "2fc9b166",
   "metadata": {},
   "outputs": [],
   "source": [
    "import sys\n",
    "import os\n",
    "import warnings\n",
    "import sklearn\n",
    "import pandas as pd\n",
    "pd.set_option('display.max_columns',None)\n",
    "sklearn.set_config(transform_output = \"pandas\")\n",
    "warnings.filterwarnings(\"ignore\")\n",
    "\n",
    "\n",
    "# Add the parent directory (project root) to the Python path\n",
    "sys.path.append(os.path.abspath(os.path.join(os.getcwd(), '..')))\n",
    "\n",
    "from utils.feature_utils import (\n",
    "    is_north, find_part_of_month, part_of_day,\n",
    "    make_month_object, remove_duration, have_info,\n",
    "    duration_category\n",
    ")\n",
    "from utils.rbf import RBFPercentileSimilarity,RouteCreator\n",
    "from sklearn.pipeline import Pipeline\n",
    "from feature_engine.datetime import DatetimeFeatures\n"
   ]
  },
  {
   "cell_type": "code",
   "execution_count": 2,
   "id": "526a2ff4",
   "metadata": {},
   "outputs": [],
   "source": [
    "dtoj_transformer = Pipeline(steps = [\n",
    "    (\"dt\",DatetimeFeatures(features_to_extract = ['weekend'],yearfirst = True,format = \"mixed\"))\n",
    "])"
   ]
  },
  {
   "cell_type": "code",
   "execution_count": 3,
   "id": "833f225d",
   "metadata": {},
   "outputs": [
    {
     "name": "stdout",
     "output_type": "stream",
     "text": [
      "✅ Column_transformer loaded successfully.\n",
      "✅ Models loaded successfully.\n"
     ]
    }
   ],
   "source": [
    "import os\n",
    "import joblib\n",
    "# Define the path to the column transformer\n",
    "column_transformer_path = os.path.join(\"..\", \"artifacts\", \"column_transformer.joblib\")\n",
    "models_path = os.path.join(\"..\", \"artifacts\", \"models\")\n",
    "\n",
    "xgboostmodel_path = os.path.join(models_path,\"xgb_flight_price_model.joblib\")\n",
    "randomforestmodel_path = os.path.join(models_path,\"randomforest_flight_price_model.joblib\")\n",
    "\n",
    "# Load the column transformer\n",
    "column_transformer = joblib.load(column_transformer_path)\n",
    "print(\"✅ Column_transformer loaded successfully.\")\n",
    "xgb_model = joblib.load(xgboostmodel_path)\n",
    "randomforest_model = joblib.load(randomforestmodel_path)\n",
    "\n",
    "print(\"✅ Models loaded successfully.\")\n"
   ]
  },
  {
   "cell_type": "code",
   "execution_count": 4,
   "id": "8dccf5b6",
   "metadata": {},
   "outputs": [
    {
     "name": "stdout",
     "output_type": "stream",
     "text": [
      "\n",
      "✅ Input data ready for prediction:\n"
     ]
    },
    {
     "data": {
      "text/html": [
       "<div>\n",
       "<style scoped>\n",
       "    .dataframe tbody tr th:only-of-type {\n",
       "        vertical-align: middle;\n",
       "    }\n",
       "\n",
       "    .dataframe tbody tr th {\n",
       "        vertical-align: top;\n",
       "    }\n",
       "\n",
       "    .dataframe thead th {\n",
       "        text-align: right;\n",
       "    }\n",
       "</style>\n",
       "<table border=\"1\" class=\"dataframe\">\n",
       "  <thead>\n",
       "    <tr style=\"text-align: right;\">\n",
       "      <th></th>\n",
       "      <th>airline</th>\n",
       "      <th>source</th>\n",
       "      <th>destination</th>\n",
       "      <th>duration</th>\n",
       "      <th>total_stops</th>\n",
       "      <th>additional_info</th>\n",
       "      <th>dep_time_hour</th>\n",
       "      <th>dtoj_day</th>\n",
       "      <th>dtoj_month</th>\n",
       "      <th>date</th>\n",
       "      <th>is_weekend</th>\n",
       "    </tr>\n",
       "  </thead>\n",
       "  <tbody>\n",
       "    <tr>\n",
       "      <th>0</th>\n",
       "      <td>Indigo</td>\n",
       "      <td>banglore</td>\n",
       "      <td>new delhi</td>\n",
       "      <td>100</td>\n",
       "      <td>1</td>\n",
       "      <td>no info</td>\n",
       "      <td>12</td>\n",
       "      <td>12</td>\n",
       "      <td>5</td>\n",
       "      <td>2019-05-12</td>\n",
       "      <td>1</td>\n",
       "    </tr>\n",
       "  </tbody>\n",
       "</table>\n",
       "</div>"
      ],
      "text/plain": [
       "  airline    source destination  duration  total_stops additional_info  \\\n",
       "0  Indigo  banglore   new delhi       100            1         no info   \n",
       "\n",
       "   dep_time_hour  dtoj_day  dtoj_month       date  is_weekend  \n",
       "0             12        12           5 2019-05-12           1  "
      ]
     },
     "execution_count": 4,
     "metadata": {},
     "output_type": "execute_result"
    }
   ],
   "source": [
    "import pandas as pd\n",
    "from datetime import datetime\n",
    "\n",
    "# 🚀 Take inputs\n",
    "airline = input(\"Enter airline: \")\n",
    "source = input(\"Enter source: \")\n",
    "destination = input(\"Enter destination: \")\n",
    "duration = int(input(\"Enter duration in minutes (e.g. 120): \"))\n",
    "total_stops = int(input(\"Enter total stops (e.g. 0,1,2..): \"))\n",
    "additional_info = input(\"Enter additional info: \")\n",
    "dtoj_day = int(input(\"Enter day of journey (1-31): \"))\n",
    "dtoj_month = int(input(\"Enter month of journey (1-12): \"))\n",
    "dept_time_hour = int(input(\"Enter departure hour (0-23): \"))\n",
    "\n",
    "# ✅ Set dtoj_year as 2019\n",
    "dtoj_year = 2019\n",
    "\n",
    "\n",
    "# 🔗 Create single-row dataframe including dtoj_year\n",
    "input_df = pd.DataFrame({\n",
    "    'airline': [airline],\n",
    "    'source': [source],\n",
    "    'destination': [destination],\n",
    "    'duration': [duration],\n",
    "    'total_stops': [total_stops],\n",
    "    'additional_info': [additional_info],\n",
    "    'dep_time_hour': [dept_time_hour],\n",
    "    'dtoj_day': [dtoj_day],\n",
    "    'dtoj_month': [dtoj_month],\n",
    "    'dtoj_year': [dtoj_year],  # added year here\n",
    "})\n",
    "\n",
    "input_df = input_df.assign(\n",
    "    date = pd.to_datetime(input_df.rename(columns={'dtoj_year': 'year', \n",
    "                                     'dtoj_month': 'month', \n",
    "                                     'dtoj_day': 'day'})[['year', 'month', 'day']])\n",
    ")\n",
    "weekend = dtoj_transformer.fit_transform(input_df[['date']])\n",
    "input_df = input_df.assign(is_weekend = weekend)\n",
    "input_df.drop(columns = ['dtoj_year'],inplace = True)\n",
    "\n",
    "print(\"\\n✅ Input data ready for prediction:\")\n",
    "input_df\n"
   ]
  },
  {
   "cell_type": "code",
   "execution_count": 5,
   "id": "419682ae",
   "metadata": {},
   "outputs": [],
   "source": [
    "# airline = Indigo\n",
    "# source = banglore\n",
    "# destination = new delhi\n",
    "# additional_info = no info"
   ]
  },
  {
   "cell_type": "code",
   "execution_count": 11,
   "id": "2ce89b1b",
   "metadata": {},
   "outputs": [
    {
     "data": {
      "text/html": [
       "<div>\n",
       "<style scoped>\n",
       "    .dataframe tbody tr th:only-of-type {\n",
       "        vertical-align: middle;\n",
       "    }\n",
       "\n",
       "    .dataframe tbody tr th {\n",
       "        vertical-align: top;\n",
       "    }\n",
       "\n",
       "    .dataframe thead th {\n",
       "        text-align: right;\n",
       "    }\n",
       "</style>\n",
       "<table border=\"1\" class=\"dataframe\">\n",
       "  <thead>\n",
       "    <tr style=\"text-align: right;\">\n",
       "      <th></th>\n",
       "      <th>tf1__airline_Air India</th>\n",
       "      <th>tf1__airline_Indigo</th>\n",
       "      <th>tf1__airline_Jet Airways</th>\n",
       "      <th>tf1__airline_Multiple Carriers</th>\n",
       "      <th>tf1__airline_Other</th>\n",
       "      <th>tf2__date_weekend</th>\n",
       "      <th>tf3__route</th>\n",
       "      <th>tf3__source_is_north</th>\n",
       "      <th>tf3__destination_is_north</th>\n",
       "      <th>tf4__part_of_month</th>\n",
       "      <th>tf4__dtoj_day</th>\n",
       "      <th>tf5__part_of_day</th>\n",
       "      <th>tf5__dep_time_hour</th>\n",
       "      <th>tf6__pca0</th>\n",
       "      <th>tf6__dtoj_month</th>\n",
       "      <th>tf7__pca0</th>\n",
       "      <th>tf7__total_stops</th>\n",
       "      <th>tf7__is_direct_flight</th>\n",
       "      <th>tf8__duration_rbf_25</th>\n",
       "      <th>tf8__duration_rbf_50</th>\n",
       "      <th>tf8__duration_rbf_75</th>\n",
       "      <th>tf8__duration_cat</th>\n",
       "      <th>tf8__duration</th>\n",
       "      <th>tf9__additional_info_Other</th>\n",
       "      <th>tf9__additional_info_in-flight meal not included</th>\n",
       "      <th>tf9__additional_info_no info</th>\n",
       "    </tr>\n",
       "  </thead>\n",
       "  <tbody>\n",
       "    <tr>\n",
       "      <th>0</th>\n",
       "      <td>0.0</td>\n",
       "      <td>1.0</td>\n",
       "      <td>0.0</td>\n",
       "      <td>0.0</td>\n",
       "      <td>0.0</td>\n",
       "      <td>1</td>\n",
       "      <td>7991.070822</td>\n",
       "      <td>0</td>\n",
       "      <td>1</td>\n",
       "      <td>-0.669521</td>\n",
       "      <td>0.423077</td>\n",
       "      <td>12</td>\n",
       "      <td>0.521739</td>\n",
       "      <td>0.697084</td>\n",
       "      <td>-0.031323</td>\n",
       "      <td>-0.523635</td>\n",
       "      <td>1</td>\n",
       "      <td>0</td>\n",
       "      <td>-0.361153</td>\n",
       "      <td>-0.100935</td>\n",
       "      <td>-0.082143</td>\n",
       "      <td>0.0</td>\n",
       "      <td>-1.058348</td>\n",
       "      <td>0.0</td>\n",
       "      <td>0.0</td>\n",
       "      <td>1.0</td>\n",
       "    </tr>\n",
       "  </tbody>\n",
       "</table>\n",
       "</div>"
      ],
      "text/plain": [
       "   tf1__airline_Air India  tf1__airline_Indigo  tf1__airline_Jet Airways  \\\n",
       "0                     0.0                  1.0                       0.0   \n",
       "\n",
       "   tf1__airline_Multiple Carriers  tf1__airline_Other  tf2__date_weekend  \\\n",
       "0                             0.0                 0.0                  1   \n",
       "\n",
       "    tf3__route  tf3__source_is_north  tf3__destination_is_north  \\\n",
       "0  7991.070822                     0                          1   \n",
       "\n",
       "   tf4__part_of_month  tf4__dtoj_day  tf5__part_of_day  tf5__dep_time_hour  \\\n",
       "0           -0.669521       0.423077                12            0.521739   \n",
       "\n",
       "   tf6__pca0  tf6__dtoj_month  tf7__pca0  tf7__total_stops  \\\n",
       "0   0.697084        -0.031323  -0.523635                 1   \n",
       "\n",
       "   tf7__is_direct_flight  tf8__duration_rbf_25  tf8__duration_rbf_50  \\\n",
       "0                      0             -0.361153             -0.100935   \n",
       "\n",
       "   tf8__duration_rbf_75  tf8__duration_cat  tf8__duration  \\\n",
       "0             -0.082143                0.0      -1.058348   \n",
       "\n",
       "   tf9__additional_info_Other  \\\n",
       "0                         0.0   \n",
       "\n",
       "   tf9__additional_info_in-flight meal not included  \\\n",
       "0                                               0.0   \n",
       "\n",
       "   tf9__additional_info_no info  \n",
       "0                           1.0  "
      ]
     },
     "execution_count": 11,
     "metadata": {},
     "output_type": "execute_result"
    }
   ],
   "source": [
    "input_df_transformed = column_transformer.transform(input_df)\n",
    "input_df_transformed"
   ]
  },
  {
   "cell_type": "code",
   "execution_count": 12,
   "id": "09282b05",
   "metadata": {},
   "outputs": [
    {
     "name": "stdout",
     "output_type": "stream",
     "text": [
      "💰 Predicted Flight Price: 4005.8594\n"
     ]
    }
   ],
   "source": [
    "prediction = xgb_model.predict(input_df_transformed)\n",
    "print(\"💰 Predicted Flight Price:\", prediction[0])"
   ]
  },
  {
   "cell_type": "code",
   "execution_count": null,
   "id": "a9a47c7d",
   "metadata": {},
   "outputs": [],
   "source": []
  }
 ],
 "metadata": {
  "kernelspec": {
   "display_name": "new_flight_venv_latest",
   "language": "python",
   "name": "python3"
  },
  "language_info": {
   "codemirror_mode": {
    "name": "ipython",
    "version": 3
   },
   "file_extension": ".py",
   "mimetype": "text/x-python",
   "name": "python",
   "nbconvert_exporter": "python",
   "pygments_lexer": "ipython3",
   "version": "3.10.11"
  }
 },
 "nbformat": 4,
 "nbformat_minor": 5
}
